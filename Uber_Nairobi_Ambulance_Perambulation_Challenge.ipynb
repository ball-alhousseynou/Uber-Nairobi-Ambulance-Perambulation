{
  "nbformat": 4,
  "nbformat_minor": 0,
  "metadata": {
    "colab": {
      "name": "Uber Nairobi Ambulance Perambulation Challenge.ipynb",
      "provenance": [],
      "collapsed_sections": []
    },
    "kernelspec": {
      "display_name": "Python 3",
      "name": "python3"
    }
  },
  "cells": [
    {
      "cell_type": "markdown",
      "metadata": {
        "id": "h-YKJhWgu1-W"
      },
      "source": [
        "# Uber Nairobi Ambulance Perambulation Challenge\n",
        "The aim of this challenge is to place six virtual ambulances around the city of Nairobi, moving them around throughout the day with the goal of minimising the distance travelled when responding to crashes during the test period.\n",
        "\n",
        "\n",
        "\n"
      ]
    },
    {
      "cell_type": "markdown",
      "metadata": {
        "id": "b58UbR2BpY6f"
      },
      "source": [
        "### Setup\n",
        "\n"
      ]
    },
    {
      "cell_type": "code",
      "metadata": {
        "id": "g4I4H1I6KIJR"
      },
      "source": [
        "!pip install --upgrade fastcore -q\n",
        "!pip install --upgrade fastai -q\n",
        "!pip install geopandas"
      ],
      "execution_count": null,
      "outputs": []
    },
    {
      "cell_type": "code",
      "metadata": {
        "id": "bs6NQyyXKUps"
      },
      "source": [
        "from fastai.vision.all import * # Needs latest version, and sometimes a restart of the runtime after the pip installs\r\n",
        "import pandas as pd\r\n",
        "import numpy as np\r\n",
        "from tqdm.notebook import tqdm\r\n",
        "from sklearn.cluster import MiniBatchKMeans\r\n",
        "import time\r\n",
        "import torch.optim as optim"
      ],
      "execution_count": 209,
      "outputs": []
    },
    {
      "cell_type": "code",
      "metadata": {
        "id": "EpwxgYjTHeaw"
      },
      "source": [
        "# set folder\r\n",
        "from google.colab import drive\r\n",
        "drive.mount('/content/drive')\r\n",
        "%cd \"/content/drive/MyDrive/DataScience Challenges/uber-nairobi-ambulance-perambulation\""
      ],
      "execution_count": null,
      "outputs": []
    },
    {
      "cell_type": "markdown",
      "metadata": {
        "id": "GE6CrvCtMdmI"
      },
      "source": [
        "### Load the Crash Data"
      ]
    },
    {
      "cell_type": "code",
      "metadata": {
        "colab": {
          "base_uri": "https://localhost:8080/",
          "height": 197
        },
        "id": "GJL0o8N5K0vT",
        "outputId": "1940bd17-e911-4df4-ce38-c86e3e2ecbe6"
      },
      "source": [
        "df = pd.read_csv('Data/Train.csv', parse_dates=['datetime'])\n",
        "df.head()"
      ],
      "execution_count": 211,
      "outputs": [
        {
          "output_type": "execute_result",
          "data": {
            "text/html": [
              "<div>\n",
              "<style scoped>\n",
              "    .dataframe tbody tr th:only-of-type {\n",
              "        vertical-align: middle;\n",
              "    }\n",
              "\n",
              "    .dataframe tbody tr th {\n",
              "        vertical-align: top;\n",
              "    }\n",
              "\n",
              "    .dataframe thead th {\n",
              "        text-align: right;\n",
              "    }\n",
              "</style>\n",
              "<table border=\"1\" class=\"dataframe\">\n",
              "  <thead>\n",
              "    <tr style=\"text-align: right;\">\n",
              "      <th></th>\n",
              "      <th>uid</th>\n",
              "      <th>datetime</th>\n",
              "      <th>latitude</th>\n",
              "      <th>longitude</th>\n",
              "    </tr>\n",
              "  </thead>\n",
              "  <tbody>\n",
              "    <tr>\n",
              "      <th>0</th>\n",
              "      <td>1</td>\n",
              "      <td>2018-01-01 00:25:46</td>\n",
              "      <td>-1.188850</td>\n",
              "      <td>36.931382</td>\n",
              "    </tr>\n",
              "    <tr>\n",
              "      <th>1</th>\n",
              "      <td>2</td>\n",
              "      <td>2018-01-01 02:02:39</td>\n",
              "      <td>-0.662939</td>\n",
              "      <td>37.208730</td>\n",
              "    </tr>\n",
              "    <tr>\n",
              "      <th>2</th>\n",
              "      <td>3</td>\n",
              "      <td>2018-01-01 02:31:49</td>\n",
              "      <td>-0.662939</td>\n",
              "      <td>37.208730</td>\n",
              "    </tr>\n",
              "    <tr>\n",
              "      <th>3</th>\n",
              "      <td>4</td>\n",
              "      <td>2018-01-01 03:04:01</td>\n",
              "      <td>-1.288087</td>\n",
              "      <td>36.826583</td>\n",
              "    </tr>\n",
              "    <tr>\n",
              "      <th>4</th>\n",
              "      <td>5</td>\n",
              "      <td>2018-01-01 03:58:49</td>\n",
              "      <td>-1.188850</td>\n",
              "      <td>36.931382</td>\n",
              "    </tr>\n",
              "  </tbody>\n",
              "</table>\n",
              "</div>"
            ],
            "text/plain": [
              "   uid            datetime  latitude  longitude\n",
              "0    1 2018-01-01 00:25:46 -1.188850  36.931382\n",
              "1    2 2018-01-01 02:02:39 -0.662939  37.208730\n",
              "2    3 2018-01-01 02:31:49 -0.662939  37.208730\n",
              "3    4 2018-01-01 03:04:01 -1.288087  36.826583\n",
              "4    5 2018-01-01 03:58:49 -1.188850  36.931382"
            ]
          },
          "metadata": {
            "tags": []
          },
          "execution_count": 211
        }
      ]
    },
    {
      "cell_type": "markdown",
      "metadata": {
        "id": "eBcc_kSHqbXo"
      },
      "source": [
        "### Standardize features by removing the mean and scaling to unit variance\r\n",
        "\r\n"
      ]
    },
    {
      "cell_type": "code",
      "metadata": {
        "id": "n4ramVV1RMyN"
      },
      "source": [
        "from sklearn.preprocessing import StandardScaler \r\n",
        "scaler = StandardScaler()\r\n",
        "data_sc = scaler.fit_transform(df[['latitude', 'longitude']].values)"
      ],
      "execution_count": 212,
      "outputs": []
    },
    {
      "cell_type": "code",
      "metadata": {
        "id": "OTa-iiob4H_0"
      },
      "source": [
        "def loss_fn(crash_locs, amb_locs):\r\n",
        "  \"\"\"For each crash we find the dist to the closest ambulance, and return the mean of these dists.\"\"\"\r\n",
        "  # Dists to first ambulance\r\n",
        "  dists_split = crash_locs-amb_locs[0]\r\n",
        "  dists = (dists_split[:,0]**2 + dists_split[:,1]**2)**0.5\r\n",
        "  min_dists = dists\r\n",
        "  for i in range(1, 6):\r\n",
        "    # Update dists so they represent the dist to the closest ambulance\r\n",
        "    dists_split = crash_locs-amb_locs[i]\r\n",
        "    dists = (dists_split[:,0]**2 + dists_split[:,1]**2)**0.5\r\n",
        "    min_dists = torch.min(min_dists, dists)\r\n",
        "  \r\n",
        "  return min_dists.mean()"
      ],
      "execution_count": 213,
      "outputs": []
    },
    {
      "cell_type": "markdown",
      "metadata": {
        "id": "fb3eNA9ikK48"
      },
      "source": [
        "### Score function"
      ]
    },
    {
      "cell_type": "code",
      "metadata": {
        "id": "1E1uVb5WObMb"
      },
      "source": [
        "def score(sub, ref):\r\n",
        "    total_distance = 0\r\n",
        "    for date, c_lat, c_lon in ref[['datetime', 'latitude', 'longitude']].values:\r\n",
        "        row = sub.loc[sub.date < date].tail(1) # Prior to Oct 2 this was incorrectly .head(1)\r\n",
        "        dists = []\r\n",
        "        for a in range(6):\r\n",
        "            dist = ((c_lat - row[f'A{a}_Latitude'].values[0])**2+(c_lon - row[f'A{a}_Longitude'].values[0])**2)**0.5 \r\n",
        "            dists.append(dist)\r\n",
        "        total_distance += min(dists)\r\n",
        "    return total_distance"
      ],
      "execution_count": 214,
      "outputs": []
    },
    {
      "cell_type": "markdown",
      "metadata": {
        "id": "Ax8rg3JokQQZ"
      },
      "source": [
        "### Finding locations\r\n",
        "- In a first step, I use the MiniBatchKMeans algorithm to initialize the starting points\r\n",
        "\r\n",
        "- After that, I use the LBFGS algorithm to minimize the distance"
      ]
    },
    {
      "cell_type": "code",
      "metadata": {
        "id": "nZdL5JrhUWg3",
        "colab": {
          "base_uri": "https://localhost:8080/"
        },
        "outputId": "42b8131d-dfe5-4404-ebdf-0885bc10c488"
      },
      "source": [
        "def model_lbfgs_minikmeans(crash_locs, n_iter=1000, lr=1e-1, store_every=100, verbose=1):\r\n",
        "\r\n",
        "  minikmeans = MiniBatchKMeans(n_clusters=6, max_iter=10, batch_size=6, random_state=44, max_no_improvement=15, reassignment_ratio=5e-9)\r\n",
        "  model = minikmeans.fit(crash_locs)\r\n",
        "  amb_locs = torch.tensor(model.cluster_centers_)\r\n",
        "  amb_locs.requires_grad_()\r\n",
        "\r\n",
        "  optimizer = optim.LBFGS([amb_locs], lr=lr )\r\n",
        "\r\n",
        "  def closure():\r\n",
        "    loss = loss_fn(crash_locs, amb_locs)\r\n",
        "    optimizer.zero_grad()\r\n",
        "    loss.backward()\r\n",
        "    return loss\r\n",
        "\r\n",
        "  for i in range(n_iter):\r\n",
        "\r\n",
        "    loss = loss_fn(crash_locs, amb_locs)\r\n",
        "    if verbose == 1:\r\n",
        "      if i % store_every == 0: print('Loss:', loss.item()) # Print loss\r\n",
        "\r\n",
        "    optimizer.step(closure)\r\n",
        "\r\n",
        "  return amb_locs.detach().numpy()\r\n",
        "\r\n",
        "crash_locs = tensor(data_sc)\r\n",
        "amb_locs = model_lbfgs_minikmeans(crash_locs, n_iter=1000, lr=1e-3, store_every=100, verbose=1)\r\n"
      ],
      "execution_count": 215,
      "outputs": [
        {
          "output_type": "stream",
          "text": [
            "Loss: 0.45005287116803316\n",
            "Loss: 0.43066289889319825\n",
            "Loss: 0.43048519200161456\n",
            "Loss: 0.43035873406787406\n",
            "Loss: 0.4302573804222081\n",
            "Loss: 0.43017851405188534\n",
            "Loss: 0.43010922973985694\n",
            "Loss: 0.43004548528128533\n",
            "Loss: 0.4299972117867011\n",
            "Loss: 0.42995518817910655\n"
          ],
          "name": "stdout"
        }
      ]
    },
    {
      "cell_type": "markdown",
      "metadata": {
        "id": "bQvjr_whl67K"
      },
      "source": [
        "### Local score"
      ]
    },
    {
      "cell_type": "code",
      "metadata": {
        "id": "_T4fXwutX3gx",
        "colab": {
          "base_uri": "https://localhost:8080/"
        },
        "outputId": "cef79e72-0345-48d2-947a-b329bec6a0f1"
      },
      "source": [
        "reference = df.loc[df.datetime > '2019-01-01'] # Using 2019 as our test set\r\n",
        "dates = pd.date_range('2019-01-01', '2020-01-01', freq='3h')\r\n",
        "sub = pd.DataFrame({\r\n",
        "    'date':dates\r\n",
        "})\r\n",
        "\r\n",
        "for ambulance in range(6):\r\n",
        "            sub['A'+str(ambulance)+'_Latitude'] = scaler.inverse_transform(amb_locs)[:, 0][ambulance]\r\n",
        "            sub['A'+str(ambulance)+'_Longitude'] = scaler.inverse_transform(amb_locs)[:, 1][ambulance]\r\n",
        "\r\n",
        "score(sub, reference)"
      ],
      "execution_count": 216,
      "outputs": [
        {
          "output_type": "execute_result",
          "data": {
            "text/plain": [
              "91.30645429095912"
            ]
          },
          "metadata": {
            "tags": []
          },
          "execution_count": 216
        }
      ]
    },
    {
      "cell_type": "markdown",
      "metadata": {
        "id": "-NhWcuynyHNl"
      },
      "source": [
        "### Submission"
      ]
    },
    {
      "cell_type": "code",
      "metadata": {
        "colab": {
          "base_uri": "https://localhost:8080/",
          "height": 281
        },
        "id": "WDgWhJ7Z-GrT",
        "outputId": "268f1583-a45f-4fab-f20c-f1a6df1a0d7a"
      },
      "source": [
        "ss = pd.read_csv('Data/SampleSubmission.csv', parse_dates=['date'])\r\n",
        "ss.head()"
      ],
      "execution_count": 217,
      "outputs": [
        {
          "output_type": "execute_result",
          "data": {
            "text/html": [
              "<div>\n",
              "<style scoped>\n",
              "    .dataframe tbody tr th:only-of-type {\n",
              "        vertical-align: middle;\n",
              "    }\n",
              "\n",
              "    .dataframe tbody tr th {\n",
              "        vertical-align: top;\n",
              "    }\n",
              "\n",
              "    .dataframe thead th {\n",
              "        text-align: right;\n",
              "    }\n",
              "</style>\n",
              "<table border=\"1\" class=\"dataframe\">\n",
              "  <thead>\n",
              "    <tr style=\"text-align: right;\">\n",
              "      <th></th>\n",
              "      <th>date</th>\n",
              "      <th>A0_Latitude</th>\n",
              "      <th>A0_Longitude</th>\n",
              "      <th>A1_Latitude</th>\n",
              "      <th>A1_Longitude</th>\n",
              "      <th>A2_Latitude</th>\n",
              "      <th>A2_Longitude</th>\n",
              "      <th>A3_Latitude</th>\n",
              "      <th>A3_Longitude</th>\n",
              "      <th>A4_Latitude</th>\n",
              "      <th>A4_Longitude</th>\n",
              "      <th>A5_Latitude</th>\n",
              "      <th>A5_Longitude</th>\n",
              "    </tr>\n",
              "  </thead>\n",
              "  <tbody>\n",
              "    <tr>\n",
              "      <th>0</th>\n",
              "      <td>2019-07-01 00:00:00</td>\n",
              "      <td>0</td>\n",
              "      <td>0</td>\n",
              "      <td>0</td>\n",
              "      <td>0</td>\n",
              "      <td>0</td>\n",
              "      <td>0</td>\n",
              "      <td>0</td>\n",
              "      <td>0</td>\n",
              "      <td>0</td>\n",
              "      <td>0</td>\n",
              "      <td>0</td>\n",
              "      <td>0</td>\n",
              "    </tr>\n",
              "    <tr>\n",
              "      <th>1</th>\n",
              "      <td>2019-07-01 03:00:00</td>\n",
              "      <td>0</td>\n",
              "      <td>0</td>\n",
              "      <td>0</td>\n",
              "      <td>0</td>\n",
              "      <td>0</td>\n",
              "      <td>0</td>\n",
              "      <td>0</td>\n",
              "      <td>0</td>\n",
              "      <td>0</td>\n",
              "      <td>0</td>\n",
              "      <td>0</td>\n",
              "      <td>0</td>\n",
              "    </tr>\n",
              "    <tr>\n",
              "      <th>2</th>\n",
              "      <td>2019-07-01 06:00:00</td>\n",
              "      <td>0</td>\n",
              "      <td>0</td>\n",
              "      <td>0</td>\n",
              "      <td>0</td>\n",
              "      <td>0</td>\n",
              "      <td>0</td>\n",
              "      <td>0</td>\n",
              "      <td>0</td>\n",
              "      <td>0</td>\n",
              "      <td>0</td>\n",
              "      <td>0</td>\n",
              "      <td>0</td>\n",
              "    </tr>\n",
              "    <tr>\n",
              "      <th>3</th>\n",
              "      <td>2019-07-01 09:00:00</td>\n",
              "      <td>0</td>\n",
              "      <td>0</td>\n",
              "      <td>0</td>\n",
              "      <td>0</td>\n",
              "      <td>0</td>\n",
              "      <td>0</td>\n",
              "      <td>0</td>\n",
              "      <td>0</td>\n",
              "      <td>0</td>\n",
              "      <td>0</td>\n",
              "      <td>0</td>\n",
              "      <td>0</td>\n",
              "    </tr>\n",
              "    <tr>\n",
              "      <th>4</th>\n",
              "      <td>2019-07-01 12:00:00</td>\n",
              "      <td>0</td>\n",
              "      <td>0</td>\n",
              "      <td>0</td>\n",
              "      <td>0</td>\n",
              "      <td>0</td>\n",
              "      <td>0</td>\n",
              "      <td>0</td>\n",
              "      <td>0</td>\n",
              "      <td>0</td>\n",
              "      <td>0</td>\n",
              "      <td>0</td>\n",
              "      <td>0</td>\n",
              "    </tr>\n",
              "  </tbody>\n",
              "</table>\n",
              "</div>"
            ],
            "text/plain": [
              "                 date  A0_Latitude  ...  A5_Latitude  A5_Longitude\n",
              "0 2019-07-01 00:00:00            0  ...            0             0\n",
              "1 2019-07-01 03:00:00            0  ...            0             0\n",
              "2 2019-07-01 06:00:00            0  ...            0             0\n",
              "3 2019-07-01 09:00:00            0  ...            0             0\n",
              "4 2019-07-01 12:00:00            0  ...            0             0\n",
              "\n",
              "[5 rows x 13 columns]"
            ]
          },
          "metadata": {
            "tags": []
          },
          "execution_count": 217
        }
      ]
    },
    {
      "cell_type": "code",
      "metadata": {
        "colab": {
          "base_uri": "https://localhost:8080/",
          "height": 281
        },
        "id": "ApXpRCg2axnk",
        "outputId": "af8e6845-41d5-4cf3-d71d-4a56e0b52675"
      },
      "source": [
        "for ambulance in range(6):\r\n",
        "            ss['A'+str(ambulance)+'_Latitude'] = scaler.inverse_transform(amb_locs)[:, 0][ambulance]\r\n",
        "            ss['A'+str(ambulance)+'_Longitude'] = scaler.inverse_transform(amb_locs)[:, 1][ambulance]\r\n",
        "ss.head()"
      ],
      "execution_count": 218,
      "outputs": [
        {
          "output_type": "execute_result",
          "data": {
            "text/html": [
              "<div>\n",
              "<style scoped>\n",
              "    .dataframe tbody tr th:only-of-type {\n",
              "        vertical-align: middle;\n",
              "    }\n",
              "\n",
              "    .dataframe tbody tr th {\n",
              "        vertical-align: top;\n",
              "    }\n",
              "\n",
              "    .dataframe thead th {\n",
              "        text-align: right;\n",
              "    }\n",
              "</style>\n",
              "<table border=\"1\" class=\"dataframe\">\n",
              "  <thead>\n",
              "    <tr style=\"text-align: right;\">\n",
              "      <th></th>\n",
              "      <th>date</th>\n",
              "      <th>A0_Latitude</th>\n",
              "      <th>A0_Longitude</th>\n",
              "      <th>A1_Latitude</th>\n",
              "      <th>A1_Longitude</th>\n",
              "      <th>A2_Latitude</th>\n",
              "      <th>A2_Longitude</th>\n",
              "      <th>A3_Latitude</th>\n",
              "      <th>A3_Longitude</th>\n",
              "      <th>A4_Latitude</th>\n",
              "      <th>A4_Longitude</th>\n",
              "      <th>A5_Latitude</th>\n",
              "      <th>A5_Longitude</th>\n",
              "    </tr>\n",
              "  </thead>\n",
              "  <tbody>\n",
              "    <tr>\n",
              "      <th>0</th>\n",
              "      <td>2019-07-01 00:00:00</td>\n",
              "      <td>-1.287253</td>\n",
              "      <td>36.821733</td>\n",
              "      <td>-1.224755</td>\n",
              "      <td>36.885941</td>\n",
              "      <td>-1.263419</td>\n",
              "      <td>36.741914</td>\n",
              "      <td>-1.490986</td>\n",
              "      <td>37.057649</td>\n",
              "      <td>-1.330657</td>\n",
              "      <td>36.885212</td>\n",
              "      <td>-1.109947</td>\n",
              "      <td>37.010332</td>\n",
              "    </tr>\n",
              "    <tr>\n",
              "      <th>1</th>\n",
              "      <td>2019-07-01 03:00:00</td>\n",
              "      <td>-1.287253</td>\n",
              "      <td>36.821733</td>\n",
              "      <td>-1.224755</td>\n",
              "      <td>36.885941</td>\n",
              "      <td>-1.263419</td>\n",
              "      <td>36.741914</td>\n",
              "      <td>-1.490986</td>\n",
              "      <td>37.057649</td>\n",
              "      <td>-1.330657</td>\n",
              "      <td>36.885212</td>\n",
              "      <td>-1.109947</td>\n",
              "      <td>37.010332</td>\n",
              "    </tr>\n",
              "    <tr>\n",
              "      <th>2</th>\n",
              "      <td>2019-07-01 06:00:00</td>\n",
              "      <td>-1.287253</td>\n",
              "      <td>36.821733</td>\n",
              "      <td>-1.224755</td>\n",
              "      <td>36.885941</td>\n",
              "      <td>-1.263419</td>\n",
              "      <td>36.741914</td>\n",
              "      <td>-1.490986</td>\n",
              "      <td>37.057649</td>\n",
              "      <td>-1.330657</td>\n",
              "      <td>36.885212</td>\n",
              "      <td>-1.109947</td>\n",
              "      <td>37.010332</td>\n",
              "    </tr>\n",
              "    <tr>\n",
              "      <th>3</th>\n",
              "      <td>2019-07-01 09:00:00</td>\n",
              "      <td>-1.287253</td>\n",
              "      <td>36.821733</td>\n",
              "      <td>-1.224755</td>\n",
              "      <td>36.885941</td>\n",
              "      <td>-1.263419</td>\n",
              "      <td>36.741914</td>\n",
              "      <td>-1.490986</td>\n",
              "      <td>37.057649</td>\n",
              "      <td>-1.330657</td>\n",
              "      <td>36.885212</td>\n",
              "      <td>-1.109947</td>\n",
              "      <td>37.010332</td>\n",
              "    </tr>\n",
              "    <tr>\n",
              "      <th>4</th>\n",
              "      <td>2019-07-01 12:00:00</td>\n",
              "      <td>-1.287253</td>\n",
              "      <td>36.821733</td>\n",
              "      <td>-1.224755</td>\n",
              "      <td>36.885941</td>\n",
              "      <td>-1.263419</td>\n",
              "      <td>36.741914</td>\n",
              "      <td>-1.490986</td>\n",
              "      <td>37.057649</td>\n",
              "      <td>-1.330657</td>\n",
              "      <td>36.885212</td>\n",
              "      <td>-1.109947</td>\n",
              "      <td>37.010332</td>\n",
              "    </tr>\n",
              "  </tbody>\n",
              "</table>\n",
              "</div>"
            ],
            "text/plain": [
              "                 date  A0_Latitude  ...  A5_Latitude  A5_Longitude\n",
              "0 2019-07-01 00:00:00    -1.287253  ...    -1.109947     37.010332\n",
              "1 2019-07-01 03:00:00    -1.287253  ...    -1.109947     37.010332\n",
              "2 2019-07-01 06:00:00    -1.287253  ...    -1.109947     37.010332\n",
              "3 2019-07-01 09:00:00    -1.287253  ...    -1.109947     37.010332\n",
              "4 2019-07-01 12:00:00    -1.287253  ...    -1.109947     37.010332\n",
              "\n",
              "[5 rows x 13 columns]"
            ]
          },
          "metadata": {
            "tags": []
          },
          "execution_count": 218
        }
      ]
    },
    {
      "cell_type": "code",
      "metadata": {
        "id": "QUBAFDvALrB7"
      },
      "source": [
        "ss.to_csv('submission.csv', index=False)"
      ],
      "execution_count": 207,
      "outputs": []
    },
    {
      "cell_type": "code",
      "metadata": {
        "id": "X6soSA-5rVQg"
      },
      "source": [
        ""
      ],
      "execution_count": null,
      "outputs": []
    }
  ]
}